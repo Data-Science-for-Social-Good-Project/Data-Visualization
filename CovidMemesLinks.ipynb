{
 "cells": [
  {
   "cell_type": "code",
   "execution_count": 4,
   "metadata": {},
   "outputs": [],
   "source": [
    "# import the dataset\n",
    "\n",
    "import pandas as pd\n",
    "import numpy as np \n",
    "\n",
    "import matplotlib.pyplot as plt\n",
    "import matplotlib\n",
    "matplotlib.style.use('ggplot')\n",
    "\n",
    "dr = pd.read_csv(\"DataCollectionSpreadsheetCovidMemes3GroupMembers.csv\")"
   ]
  },
  {
   "cell_type": "code",
   "execution_count": 6,
   "metadata": {},
   "outputs": [
    {
     "data": {
      "text/plain": [
       "(28, 7)"
      ]
     },
     "execution_count": 6,
     "metadata": {},
     "output_type": "execute_result"
    }
   ],
   "source": [
    "dr.shape"
   ]
  },
  {
   "cell_type": "code",
   "execution_count": 9,
   "metadata": {},
   "outputs": [
    {
     "data": {
      "text/html": [
       "<div>\n",
       "<style scoped>\n",
       "    .dataframe tbody tr th:only-of-type {\n",
       "        vertical-align: middle;\n",
       "    }\n",
       "\n",
       "    .dataframe tbody tr th {\n",
       "        vertical-align: top;\n",
       "    }\n",
       "\n",
       "    .dataframe thead th {\n",
       "        text-align: right;\n",
       "    }\n",
       "</style>\n",
       "<table border=\"1\" class=\"dataframe\">\n",
       "  <thead>\n",
       "    <tr style=\"text-align: right;\">\n",
       "      <th></th>\n",
       "      <th>Do we put the date?</th>\n",
       "      <th>Tweet</th>\n",
       "      <th>Link</th>\n",
       "      <th>Username</th>\n",
       "      <th># of Followers</th>\n",
       "      <th>Article Credibility</th>\n",
       "      <th>Tweet Credibility</th>\n",
       "    </tr>\n",
       "  </thead>\n",
       "  <tbody>\n",
       "    <tr>\n",
       "      <th>0</th>\n",
       "      <td>7/25</td>\n",
       "      <td>If harassed by a shop worker for not wearing a...</td>\n",
       "      <td>http://www.laworfiction.com/2020/07/face-cover...</td>\n",
       "      <td>@Kerad11106216</td>\n",
       "      <td>149</td>\n",
       "      <td>NaN</td>\n",
       "      <td>NaN</td>\n",
       "    </tr>\n",
       "    <tr>\n",
       "      <th>1</th>\n",
       "      <td>7/25</td>\n",
       "      <td>God bless Bartholomeus Lakeman for asking for ...</td>\n",
       "      <td>https://www.whatdotheyknow.com/request/where_i...</td>\n",
       "      <td>@Kerad11106217</td>\n",
       "      <td>149</td>\n",
       "      <td>NaN</td>\n",
       "      <td>NaN</td>\n",
       "    </tr>\n",
       "    <tr>\n",
       "      <th>2</th>\n",
       "      <td>NaN</td>\n",
       "      <td>CDC Gangsters and pimps making up the board ga...</td>\n",
       "      <td>https://www.nytimes.com/2020/07/22/health/coro...</td>\n",
       "      <td>@Kerad11106218</td>\n",
       "      <td>149</td>\n",
       "      <td>NaN</td>\n",
       "      <td>NaN</td>\n",
       "    </tr>\n",
       "    <tr>\n",
       "      <th>3</th>\n",
       "      <td>NaN</td>\n",
       "      <td>Hello Peeps - This is the official government ...</td>\n",
       "      <td>https://www.gov.uk/government/publications/fac...</td>\n",
       "      <td>@Kerad11106219</td>\n",
       "      <td>149</td>\n",
       "      <td>NaN</td>\n",
       "      <td>NaN</td>\n",
       "    </tr>\n",
       "    <tr>\n",
       "      <th>4</th>\n",
       "      <td>7/24</td>\n",
       "      <td>VIDEO: Trump Says Fauci Would Lock USA Down Fo...</td>\n",
       "      <td>https://nationalfile.com/video-trump-says-fauc...</td>\n",
       "      <td>@Kerad11106220</td>\n",
       "      <td>149</td>\n",
       "      <td>NaN</td>\n",
       "      <td>NaN</td>\n",
       "    </tr>\n",
       "  </tbody>\n",
       "</table>\n",
       "</div>"
      ],
      "text/plain": [
       "  Do we put the date?                                              Tweet  \\\n",
       "0                7/25  If harassed by a shop worker for not wearing a...   \n",
       "1                7/25  God bless Bartholomeus Lakeman for asking for ...   \n",
       "2                 NaN  CDC Gangsters and pimps making up the board ga...   \n",
       "3                 NaN  Hello Peeps - This is the official government ...   \n",
       "4                7/24  VIDEO: Trump Says Fauci Would Lock USA Down Fo...   \n",
       "\n",
       "                                                Link        Username  \\\n",
       "0  http://www.laworfiction.com/2020/07/face-cover...  @Kerad11106216   \n",
       "1  https://www.whatdotheyknow.com/request/where_i...  @Kerad11106217   \n",
       "2  https://www.nytimes.com/2020/07/22/health/coro...  @Kerad11106218   \n",
       "3  https://www.gov.uk/government/publications/fac...  @Kerad11106219   \n",
       "4  https://nationalfile.com/video-trump-says-fauc...  @Kerad11106220   \n",
       "\n",
       "   # of Followers  Article Credibility  Tweet Credibility  \n",
       "0             149                  NaN                NaN  \n",
       "1             149                  NaN                NaN  \n",
       "2             149                  NaN                NaN  \n",
       "3             149                  NaN                NaN  \n",
       "4             149                  NaN                NaN  "
      ]
     },
     "execution_count": 9,
     "metadata": {},
     "output_type": "execute_result"
    }
   ],
   "source": [
    "dr.head()"
   ]
  },
  {
   "cell_type": "code",
   "execution_count": 11,
   "metadata": {},
   "outputs": [
    {
     "data": {
      "text/html": [
       "<div>\n",
       "<style scoped>\n",
       "    .dataframe tbody tr th:only-of-type {\n",
       "        vertical-align: middle;\n",
       "    }\n",
       "\n",
       "    .dataframe tbody tr th {\n",
       "        vertical-align: top;\n",
       "    }\n",
       "\n",
       "    .dataframe thead th {\n",
       "        text-align: right;\n",
       "    }\n",
       "</style>\n",
       "<table border=\"1\" class=\"dataframe\">\n",
       "  <thead>\n",
       "    <tr style=\"text-align: right;\">\n",
       "      <th></th>\n",
       "      <th>Do we put the date?</th>\n",
       "      <th>Tweet</th>\n",
       "      <th>Link</th>\n",
       "      <th>Username</th>\n",
       "      <th># of Followers</th>\n",
       "      <th>Article Credibility</th>\n",
       "      <th>Tweet Credibility</th>\n",
       "    </tr>\n",
       "  </thead>\n",
       "  <tbody>\n",
       "    <tr>\n",
       "      <th>23</th>\n",
       "      <td>4/6</td>\n",
       "      <td>Welcoming news... NY COVID-19 update: New hosp...</td>\n",
       "      <td>https://auburnpub.com/news/local/govt-and-poli...</td>\n",
       "      <td>@boBoLand01</td>\n",
       "      <td>168</td>\n",
       "      <td>NaN</td>\n",
       "      <td>NaN</td>\n",
       "    </tr>\n",
       "    <tr>\n",
       "      <th>24</th>\n",
       "      <td>4/7</td>\n",
       "      <td>coronavirus news</td>\n",
       "      <td>https://www.alittleperspective.com/coronavirus...</td>\n",
       "      <td>@boBoLand01</td>\n",
       "      <td>168</td>\n",
       "      <td>NaN</td>\n",
       "      <td>NaN</td>\n",
       "    </tr>\n",
       "    <tr>\n",
       "      <th>25</th>\n",
       "      <td>NaN</td>\n",
       "      <td>How Much Liberty Must We Give Up? A Constituti...</td>\n",
       "      <td>https://www.justsecurity.org/69538/how-much-li...</td>\n",
       "      <td>@boBoLand01</td>\n",
       "      <td>168</td>\n",
       "      <td>NaN</td>\n",
       "      <td>NaN</td>\n",
       "    </tr>\n",
       "    <tr>\n",
       "      <th>26</th>\n",
       "      <td>5/1</td>\n",
       "      <td>Where We're at with Vaccines and Treatments fo...</td>\n",
       "      <td>https://www.healthline.com/health-news/heres-e...</td>\n",
       "      <td>@boBoLand01</td>\n",
       "      <td>168</td>\n",
       "      <td>NaN</td>\n",
       "      <td>NaN</td>\n",
       "    </tr>\n",
       "    <tr>\n",
       "      <th>27</th>\n",
       "      <td>5/14</td>\n",
       "      <td>NaN</td>\n",
       "      <td>https://www.afcea.org/content/dod-hhs-award-13...</td>\n",
       "      <td>@boBoLand01</td>\n",
       "      <td>168</td>\n",
       "      <td>NaN</td>\n",
       "      <td>NaN</td>\n",
       "    </tr>\n",
       "  </tbody>\n",
       "</table>\n",
       "</div>"
      ],
      "text/plain": [
       "   Do we put the date?                                              Tweet  \\\n",
       "23                 4/6  Welcoming news... NY COVID-19 update: New hosp...   \n",
       "24                 4/7                                   coronavirus news   \n",
       "25                 NaN  How Much Liberty Must We Give Up? A Constituti...   \n",
       "26                 5/1  Where We're at with Vaccines and Treatments fo...   \n",
       "27                5/14                                                NaN   \n",
       "\n",
       "                                                 Link     Username  \\\n",
       "23  https://auburnpub.com/news/local/govt-and-poli...  @boBoLand01   \n",
       "24  https://www.alittleperspective.com/coronavirus...  @boBoLand01   \n",
       "25  https://www.justsecurity.org/69538/how-much-li...  @boBoLand01   \n",
       "26  https://www.healthline.com/health-news/heres-e...  @boBoLand01   \n",
       "27  https://www.afcea.org/content/dod-hhs-award-13...  @boBoLand01   \n",
       "\n",
       "    # of Followers  Article Credibility  Tweet Credibility  \n",
       "23             168                  NaN                NaN  \n",
       "24             168                  NaN                NaN  \n",
       "25             168                  NaN                NaN  \n",
       "26             168                  NaN                NaN  \n",
       "27             168                  NaN                NaN  "
      ]
     },
     "execution_count": 11,
     "metadata": {},
     "output_type": "execute_result"
    }
   ],
   "source": [
    "dr.tail()"
   ]
  },
  {
   "cell_type": "code",
   "execution_count": 12,
   "metadata": {},
   "outputs": [
    {
     "name": "stdout",
     "output_type": "stream",
     "text": [
      "Username Username\n",
      "@Kerad11106216    1\n",
      "@Kerad11106217    1\n",
      "@Kerad11106218    1\n",
      "@Kerad11106219    1\n",
      "@Kerad11106220    1\n",
      "@Kerad11106221    1\n",
      "@Kerad11106222    1\n",
      "@Kerad11106223    1\n",
      "@Kerad11106224    1\n",
      "@Thedollartrip    5\n",
      "@boBoLand01       6\n",
      "@ness_murrihy     8\n",
      "dtype: int64\n"
     ]
    }
   ],
   "source": [
    "print(\"Username\", dr.groupby([\"Username\"]).size())"
   ]
  },
  {
   "cell_type": "code",
   "execution_count": 14,
   "metadata": {},
   "outputs": [
    {
     "data": {
      "text/plain": [
       "<matplotlib.axes._subplots.AxesSubplot at 0x7fa2bc9a2810>"
      ]
     },
     "execution_count": 14,
     "metadata": {},
     "output_type": "execute_result"
    },
    {
     "data": {
      "image/png": "[encoded data removed]",
      "text/plain": [
       "<Figure size 432x288 with 1 Axes>"
      ]
     },
     "metadata": {},
     "output_type": "display_data"
    }
   ],
   "source": [
    "dr.groupby(['Username']).size().plot(kind='barh')"
   ]
  },
  {
   "cell_type": "code",
   "execution_count": 16,
   "metadata": {},
   "outputs": [],
   "source": [
    "from sklearn.model_selection import train_test_split"
   ]
  },
  {
   "cell_type": "code",
   "execution_count": 18,
   "metadata": {},
   "outputs": [
    {
     "data": {
      "text/plain": [
       "[   Do we put the date?                                              Tweet  \\\n",
       " 15                7/19  Finalised last Friday.... no other media has r...   \n",
       " 4                 7/24  VIDEO: Trump Says Fauci Would Lock USA Down Fo...   \n",
       " 0                 7/25  If harassed by a shop worker for not wearing a...   \n",
       " 13                 6/5  \"Mr. Trump’s advisers have told the president ...   \n",
       " 2                  NaN  CDC Gangsters and pimps making up the board ga...   \n",
       " 17                6/30  Excellent background on what’s gone wrong at M...   \n",
       " 1                 7/25  God bless Bartholomeus Lakeman for asking for ...   \n",
       " 20                4/21  Stunning and depressing beyond words. My colle...   \n",
       " 18                6/30  Another $320 million down the drain To be fair...   \n",
       " 11                6/21  Coronavirus: Germany's R number rockets again ...   \n",
       " 19                6/25  By the time the U.S. had 15 known coronavirus ...   \n",
       " 22                 4/5                                                NaN   \n",
       " 14                 4/5  If they can do it, why TF can’t Australia? Peo...   \n",
       " 25                 NaN  How Much Liberty Must We Give Up? A Constituti...   \n",
       " 12                6/21  #Brexit Heartlands Pay the Highest Price for #...   \n",
       " 8                 7/19  Finally a study on how many the government kil...   \n",
       " 3                  NaN  Hello Peeps - This is the official government ...   \n",
       " 24                 4/7                                   coronavirus news   \n",
       " 23                 4/6  Welcoming news... NY COVID-19 update: New hosp...   \n",
       " 27                5/14                                                NaN   \n",
       " 10                7/12  Coronavirus conspiracy theorist DIES of virus ...   \n",
       " \n",
       "                                                  Link        Username  \\\n",
       " 15  https://www.theguardian.com/australia-news/202...   @ness_murrihy   \n",
       " 4   https://nationalfile.com/video-trump-says-fauc...  @Kerad11106220   \n",
       " 0   http://www.laworfiction.com/2020/07/face-cover...  @Kerad11106216   \n",
       " 13  https://www.wsj.com/articles/trumps-focus-shif...  @Thedollartrip   \n",
       " 2   https://www.nytimes.com/2020/07/22/health/coro...  @Kerad11106218   \n",
       " 17  https://www.abc.net.au/news/2020-07-01/victori...   @ness_murrihy   \n",
       " 1   https://www.whatdotheyknow.com/request/where_i...  @Kerad11106217   \n",
       " 20  https://www.nytimes.com/interactive/2020/04/21...   @ness_murrihy   \n",
       " 18  https://www.theguardian.com/australia-news/202...   @ness_murrihy   \n",
       " 11  https://news.sky.com/story/coronavirus-germany...  @Thedollartrip   \n",
       " 19  https://www.nytimes.com/interactive/2020/us/co...   @ness_murrihy   \n",
       " 22  https://ny.eater.com/2020/3/31/21196887/nyc-re...     @boBoLand01   \n",
       " 14  https://www.nytimes.com/2020/04/03/world/europ...   @ness_murrihy   \n",
       " 25  https://www.justsecurity.org/69538/how-much-li...     @boBoLand01   \n",
       " 12  https://www.bloomberg.com/news/articles/2020-0...  @Thedollartrip   \n",
       " 8   https://www.telegraph.co.uk/news/2020/07/19/lo...  @Kerad11106224   \n",
       " 3   https://www.gov.uk/government/publications/fac...  @Kerad11106219   \n",
       " 24  https://www.alittleperspective.com/coronavirus...     @boBoLand01   \n",
       " 23  https://auburnpub.com/news/local/govt-and-poli...     @boBoLand01   \n",
       " 27  https://www.afcea.org/content/dod-hhs-award-13...     @boBoLand01   \n",
       " 10  https://www.thesun.co.uk/news/12096434/coronav...  @Thedollartrip   \n",
       " \n",
       "     # of Followers  Article Credibility  Tweet Credibility  \n",
       " 15             123                  NaN                NaN  \n",
       " 4              149                  NaN                NaN  \n",
       " 0              149                  NaN                NaN  \n",
       " 13              54                  NaN                NaN  \n",
       " 2              149                  NaN                NaN  \n",
       " 17             123                  NaN                NaN  \n",
       " 1              149                  NaN                NaN  \n",
       " 20             123                  NaN                NaN  \n",
       " 18             123                  NaN                NaN  \n",
       " 11              54                  NaN                NaN  \n",
       " 19             123                  NaN                NaN  \n",
       " 22             168                  NaN                NaN  \n",
       " 14             123                  NaN                NaN  \n",
       " 25             168                  NaN                NaN  \n",
       " 12              54                  NaN                NaN  \n",
       " 8              149                  NaN                NaN  \n",
       " 3              149                  NaN                NaN  \n",
       " 24             168                  NaN                NaN  \n",
       " 23             168                  NaN                NaN  \n",
       " 27             168                  NaN                NaN  \n",
       " 10              54                  NaN                NaN  ,\n",
       "    Do we put the date?                                              Tweet  \\\n",
       " 9                 7/22                                                NaN   \n",
       " 6                  NaN  The real state of evidence on face coverings c...   \n",
       " 16                7/13  A strong and compelling case in favour of elim...   \n",
       " 21                 4/9  As Dr Fauci urges, let’s never return to shaki...   \n",
       " 26                 5/1  Where We're at with Vaccines and Treatments fo...   \n",
       " 7                 7/23  Bill Gates:\"The FDA is the gold standard of re...   \n",
       " 5                  NaN  THE OFFICIAL CORONAVIRUS NARRATIVE IS COLLAPSI...   \n",
       " \n",
       "                                                  Link        Username  \\\n",
       " 9         http://www.integralworld.net/visser166.html  @Thedollartrip   \n",
       " 6   https://www.cebm.net/covid-19/masking-lack-of-...  @Kerad11106222   \n",
       " 16  https://www.smh.com.au/national/i-thought-elim...   @ness_murrihy   \n",
       " 21  https://www.wsj.com/podcasts/the-journal/dr-an...   @ness_murrihy   \n",
       " 26  https://www.healthline.com/health-news/heres-e...     @boBoLand01   \n",
       " 7   https://www.cbsnews.com/news/coronavirus-vacci...  @Kerad11106223   \n",
       " 5   https://www.breitbart.com/politics/2020/07/21/...  @Kerad11106221   \n",
       " \n",
       "     # of Followers  Article Credibility  Tweet Credibility  \n",
       " 9               54                  NaN                NaN  \n",
       " 6              149                  NaN                NaN  \n",
       " 16             123                  NaN                NaN  \n",
       " 21             123                  NaN                NaN  \n",
       " 26             168                  NaN                NaN  \n",
       " 7              149                  NaN                NaN  \n",
       " 5              149                  NaN                NaN  ]"
      ]
     },
     "execution_count": 18,
     "metadata": {},
     "output_type": "execute_result"
    }
   ],
   "source": [
    "train_test_split(dr)"
   ]
  },
  {
   "cell_type": "code",
   "execution_count": 22,
   "metadata": {},
   "outputs": [
    {
     "data": {
      "text/plain": [
       "<matplotlib.axes._subplots.AxesSubplot at 0x7fa2be2ab350>"
      ]
     },
     "execution_count": 22,
     "metadata": {},
     "output_type": "execute_result"
    },
    {
     "data": {
      "image/png": "[encoded data removed]",
      "text/plain": [
       "<Figure size 432x288 with 1 Axes>"
      ]
     },
     "metadata": {},
     "output_type": "display_data"
    }
   ],
   "source": [
    "dr.groupby(['# of Followers']).size().plot(kind='barh')"
   ]
  },
  {
   "cell_type": "code",
   "execution_count": 23,
   "metadata": {},
   "outputs": [
    {
     "name": "stdout",
     "output_type": "stream",
     "text": [
      "# of Followers # of Followers\n",
      "54     5\n",
      "123    8\n",
      "149    9\n",
      "168    6\n",
      "dtype: int64\n"
     ]
    }
   ],
   "source": [
    "print(\"# of Followers\", dr.groupby([\"# of Followers\"]).size())"
   ]
  }
 ],
 "metadata": {
  "kernelspec": {
   "display_name": "Python 3",
   "language": "python",
   "name": "python3"
  },
  "language_info": {
   "codemirror_mode": {
    "name": "ipython",
    "version": 3
   },
   "file_extension": ".py",
   "mimetype": "text/x-python",
   "name": "python",
   "nbconvert_exporter": "python",
   "pygments_lexer": "ipython3",
   "version": "3.7.6"
  }
 },
 "nbformat": 4,
 "nbformat_minor": 4
}
