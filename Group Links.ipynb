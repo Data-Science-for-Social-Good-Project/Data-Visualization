{
 "cells": [
  {
   "cell_type": "code",
   "execution_count": 23,
   "metadata": {},
   "outputs": [],
   "source": [
    "# import the dataset\n",
    "\n",
    "import pandas as pd\n",
    "import numpy as np \n",
    "\n",
    "import matplotlib.pyplot as plt\n",
    "import matplotlib\n",
    "matplotlib.style.use('ggplot')\n",
    "\n",
    "dr = pd.read_csv(\"DataCollectionSpreadsheetGroupLinks.csv\")"
   ]
  },
  {
   "cell_type": "code",
   "execution_count": 24,
   "metadata": {},
   "outputs": [
    {
     "data": {
      "text/plain": [
       "(39, 6)"
      ]
     },
     "execution_count": 24,
     "metadata": {},
     "output_type": "execute_result"
    }
   ],
   "source": [
    " dr.shape"
   ]
  },
  {
   "cell_type": "code",
   "execution_count": 35,
   "metadata": {},
   "outputs": [
    {
     "data": {
      "text/html": [
       "<div>\n",
       "<style scoped>\n",
       "    .dataframe tbody tr th:only-of-type {\n",
       "        vertical-align: middle;\n",
       "    }\n",
       "\n",
       "    .dataframe tbody tr th {\n",
       "        vertical-align: top;\n",
       "    }\n",
       "\n",
       "    .dataframe thead th {\n",
       "        text-align: right;\n",
       "    }\n",
       "</style>\n",
       "<table border=\"1\" class=\"dataframe\">\n",
       "  <thead>\n",
       "    <tr style=\"text-align: right;\">\n",
       "      <th></th>\n",
       "      <th>Date</th>\n",
       "      <th>Tweet</th>\n",
       "      <th>Link</th>\n",
       "      <th>Group Name</th>\n",
       "      <th>Username</th>\n",
       "      <th>Label</th>\n",
       "    </tr>\n",
       "  </thead>\n",
       "  <tbody>\n",
       "    <tr>\n",
       "      <th>0</th>\n",
       "      <td>May 20</td>\n",
       "      <td>NEW BLOGPOST We are hearing a lot about the ch...</td>\n",
       "      <td>https://blog.rmceducation.com/2020/05/20/what-...</td>\n",
       "      <td>Ros McMullen</td>\n",
       "      <td>@RosMcM</td>\n",
       "      <td>Real</td>\n",
       "    </tr>\n",
       "    <tr>\n",
       "      <th>1</th>\n",
       "      <td>April 24</td>\n",
       "      <td>Our friends at @sheknows asked teenagers to sh...</td>\n",
       "      <td>https://bit.ly/BHPJoinNow</td>\n",
       "      <td>BlogHer</td>\n",
       "      <td>@BlogHer</td>\n",
       "      <td>Real</td>\n",
       "    </tr>\n",
       "    <tr>\n",
       "      <th>2</th>\n",
       "      <td>May 2</td>\n",
       "      <td>Well done, Tina and Jasmine! Love seeing stude...</td>\n",
       "      <td>dlvr.it/RVvH2M</td>\n",
       "      <td>Kasha Duff</td>\n",
       "      <td>@KashaDuff</td>\n",
       "      <td>Real</td>\n",
       "    </tr>\n",
       "    <tr>\n",
       "      <th>3</th>\n",
       "      <td>Mar 25</td>\n",
       "      <td>a “#coronavirus #babyboom” that will see a gen...</td>\n",
       "      <td>https://www.vice.com/en_in/article/dygj5a/sex-...</td>\n",
       "      <td>BeTheChange</td>\n",
       "      <td>@thechance2b</td>\n",
       "      <td>Real</td>\n",
       "    </tr>\n",
       "    <tr>\n",
       "      <th>4</th>\n",
       "      <td>Jun 11</td>\n",
       "      <td>Lets together make caring and carers visible S...</td>\n",
       "      <td>https://barnardos.org.uk/what-we-do/services/c...</td>\n",
       "      <td>Leicester Young People's Council</td>\n",
       "      <td>@LeicesterYpc</td>\n",
       "      <td>Real</td>\n",
       "    </tr>\n",
       "  </tbody>\n",
       "</table>\n",
       "</div>"
      ],
      "text/plain": [
       "       Date                                              Tweet  \\\n",
       "0    May 20  NEW BLOGPOST We are hearing a lot about the ch...   \n",
       "1  April 24  Our friends at @sheknows asked teenagers to sh...   \n",
       "2     May 2  Well done, Tina and Jasmine! Love seeing stude...   \n",
       "3    Mar 25  a “#coronavirus #babyboom” that will see a gen...   \n",
       "4    Jun 11  Lets together make caring and carers visible S...   \n",
       "\n",
       "                                                Link  \\\n",
       "0  https://blog.rmceducation.com/2020/05/20/what-...   \n",
       "1                          https://bit.ly/BHPJoinNow   \n",
       "2                                     dlvr.it/RVvH2M   \n",
       "3  https://www.vice.com/en_in/article/dygj5a/sex-...   \n",
       "4  https://barnardos.org.uk/what-we-do/services/c...   \n",
       "\n",
       "                         Group Name       Username Label  \n",
       "0                      Ros McMullen        @RosMcM  Real  \n",
       "1                           BlogHer       @BlogHer  Real  \n",
       "2                        Kasha Duff     @KashaDuff  Real  \n",
       "3                       BeTheChange   @thechance2b  Real  \n",
       "4  Leicester Young People's Council  @LeicesterYpc  Real  "
      ]
     },
     "execution_count": 35,
     "metadata": {},
     "output_type": "execute_result"
    }
   ],
   "source": [
    "# Print first lines of `df` \n",
    "dr.head()"
   ]
  },
  {
   "cell_type": "code",
   "execution_count": 36,
   "metadata": {},
   "outputs": [
    {
     "data": {
      "text/html": [
       "<div>\n",
       "<style scoped>\n",
       "    .dataframe tbody tr th:only-of-type {\n",
       "        vertical-align: middle;\n",
       "    }\n",
       "\n",
       "    .dataframe tbody tr th {\n",
       "        vertical-align: top;\n",
       "    }\n",
       "\n",
       "    .dataframe thead th {\n",
       "        text-align: right;\n",
       "    }\n",
       "</style>\n",
       "<table border=\"1\" class=\"dataframe\">\n",
       "  <thead>\n",
       "    <tr style=\"text-align: right;\">\n",
       "      <th></th>\n",
       "      <th>Date</th>\n",
       "      <th>Tweet</th>\n",
       "      <th>Link</th>\n",
       "      <th>Group Name</th>\n",
       "      <th>Username</th>\n",
       "      <th>Label</th>\n",
       "    </tr>\n",
       "  </thead>\n",
       "  <tbody>\n",
       "    <tr>\n",
       "      <th>34</th>\n",
       "      <td>NaN</td>\n",
       "      <td>NaN</td>\n",
       "      <td>NaN</td>\n",
       "      <td>NaN</td>\n",
       "      <td>NaN</td>\n",
       "      <td>NaN</td>\n",
       "    </tr>\n",
       "    <tr>\n",
       "      <th>35</th>\n",
       "      <td>NaN</td>\n",
       "      <td>NaN</td>\n",
       "      <td>NaN</td>\n",
       "      <td>NaN</td>\n",
       "      <td>NaN</td>\n",
       "      <td>NaN</td>\n",
       "    </tr>\n",
       "    <tr>\n",
       "      <th>36</th>\n",
       "      <td>NaN</td>\n",
       "      <td>NaN</td>\n",
       "      <td>NaN</td>\n",
       "      <td>NaN</td>\n",
       "      <td>NaN</td>\n",
       "      <td>NaN</td>\n",
       "    </tr>\n",
       "    <tr>\n",
       "      <th>37</th>\n",
       "      <td>NaN</td>\n",
       "      <td>NaN</td>\n",
       "      <td>NaN</td>\n",
       "      <td>NaN</td>\n",
       "      <td>NaN</td>\n",
       "      <td>NaN</td>\n",
       "    </tr>\n",
       "    <tr>\n",
       "      <th>38</th>\n",
       "      <td>NaN</td>\n",
       "      <td>·</td>\n",
       "      <td>NaN</td>\n",
       "      <td>NaN</td>\n",
       "      <td>NaN</td>\n",
       "      <td>NaN</td>\n",
       "    </tr>\n",
       "  </tbody>\n",
       "</table>\n",
       "</div>"
      ],
      "text/plain": [
       "   Date Tweet Link Group Name Username Label\n",
       "34  NaN   NaN  NaN        NaN      NaN   NaN\n",
       "35  NaN   NaN  NaN        NaN      NaN   NaN\n",
       "36  NaN   NaN  NaN        NaN      NaN   NaN\n",
       "37  NaN   NaN  NaN        NaN      NaN   NaN\n",
       "38  NaN     ·  NaN        NaN      NaN   NaN"
      ]
     },
     "execution_count": 36,
     "metadata": {},
     "output_type": "execute_result"
    }
   ],
   "source": [
    "dr.tail()"
   ]
  },
  {
   "cell_type": "code",
   "execution_count": 26,
   "metadata": {},
   "outputs": [
    {
     "name": "stdout",
     "output_type": "stream",
     "text": [
      "Label Label\n",
      "Fake        1\n",
      "Real       32\n",
      "Unknown     1\n",
      "dtype: int64\n"
     ]
    }
   ],
   "source": [
    "print(\"Label\", dr.groupby([\"Label\"]).size())"
   ]
  },
  {
   "cell_type": "code",
   "execution_count": 27,
   "metadata": {},
   "outputs": [
    {
     "data": {
      "text/plain": [
       "<matplotlib.axes._subplots.AxesSubplot at 0x7f80bc05cb50>"
      ]
     },
     "execution_count": 27,
     "metadata": {},
     "output_type": "execute_result"
    },
    {
     "data": {
      "image/png": "[encoded data removed]",
      "text/plain": [
       "<Figure size 432x288 with 1 Axes>"
      ]
     },
     "metadata": {},
     "output_type": "display_data"
    }
   ],
   "source": [
    "dr.groupby(['Label']).size().plot(kind='barh')"
   ]
  },
  {
   "cell_type": "code",
   "execution_count": 28,
   "metadata": {},
   "outputs": [],
   "source": [
    "from sklearn.model_selection import train_test_split"
   ]
  },
  {
   "cell_type": "code",
   "execution_count": 29,
   "metadata": {},
   "outputs": [
    {
     "data": {
      "text/plain": [
       "[         Date                                              Tweet  \\\n",
       " 23      May 2  https://covid19andunder.wordpress.com/2020/04/...   \n",
       " 33  7/20/2020  I can't imagine how I could have survived the ...   \n",
       " 30     Jul 25  How kids and teens are coping with screen time...   \n",
       " 24      May 2  https://covid19andunder.wordpress.com/2020/04/...   \n",
       " 10    July 14  We would love to hear from more teen boys in o...   \n",
       " 37        NaN                                                NaN   \n",
       " 38        NaN                                                  ·   \n",
       " 19     May 11                                           #COVID19   \n",
       " 16  5/11/2020                              #coronavirus #COVID19   \n",
       " 26      May 2  https://covid19andunder.wordpress.com/2020/04/...   \n",
       " 7      May 26  We're raising money for Teens Taking On The Cu...   \n",
       " 20      May 2                                                NaN   \n",
       " 31     Jul 24  We love finding stories of #teens getting crea...   \n",
       " 15  5/12/2020                                 #COVIDー19 #COVID19   \n",
       " 35        NaN                                                NaN   \n",
       " 25      May 2  https://covid19andunder.wordpress.com/2020/04/...   \n",
       " 29   April 23  Why children are not immune to Covid-19 - BBC ...   \n",
       " 11     Mar 14  How to talk to your kiddos about COVID19 with ...   \n",
       " 0      May 20  NEW BLOGPOST We are hearing a lot about the ch...   \n",
       " 12   7/9/2020  We are looking for Canadian teens age 12-18 to...   \n",
       " 22      May 2  covid19andunder.wordpress.com/2020/04/30/doug-...   \n",
       " 13     May 23  One reason why coronavirus hits black people t...   \n",
       " 36        NaN                                                NaN   \n",
       " 28   April 23  Coronavirus (COVID-19) (for Parents) - Nemours...   \n",
       " 1    April 24  Our friends at @sheknows asked teenagers to sh...   \n",
       " 8     July 24  It is #InternationalSelfCareDay but normative ...   \n",
       " 32     Jul 20  In 2020, there has been 158 children and 511 t...   \n",
       " 18  5/11/2020                              #COVID19 #coronavirus   \n",
       " 14  5/12/2020                                 #COVIDー19 #COVID19   \n",
       " \n",
       "                                                  Link  \\\n",
       " 23  https://covid19andunder.wordpress.com/2020/04/...   \n",
       " 33                              http://bit.ly/2WCYk3P   \n",
       " 30  https://www.miamiherald.com/living/health-fitn...   \n",
       " 24  https://covid19andunder.wordpress.com/2020/04/...   \n",
       " 10            https://www.teensathomeduringcovid.com/   \n",
       " 37                                                NaN   \n",
       " 38                                                NaN   \n",
       " 19  https://covid19andunder.wordpress.com/2020/05/...   \n",
       " 16  https://covid19andunder.wordpress.com/2020/05/...   \n",
       " 26  https://covid19andunder.wordpress.com/2020/04/...   \n",
       " 7   https://www.gofundme.com/f/usy8p-covid19-relie...   \n",
       " 20  https://covid19andunder.wordpress.com/2020/05/...   \n",
       " 31                           http://ow.ly/hYFc50AFwwE   \n",
       " 15  https://covid19andunder.wordpress.com/2020/05/...   \n",
       " 35                                                NaN   \n",
       " 25  https://covid19andunder.wordpress.com/2020/04/...   \n",
       " 29  https://www.bbc.com/future/article/20200330-co...   \n",
       " 11  https://theconversation.com/how-to-talk-to-you...   \n",
       " 0   https://blog.rmceducation.com/2020/05/20/what-...   \n",
       " 12                  http://teensathomeduringcovid.com   \n",
       " 22  https://covid19andunder.wordpress.com/2020/04/...   \n",
       " 13  https://www.youtube.com/watch?v=XAFD-0aMkwE&fe...   \n",
       " 36                                                NaN   \n",
       " 28  https://kidshealth.org/en/parents/coronavirus....   \n",
       " 1                           https://bit.ly/BHPJoinNow   \n",
       " 8   https://www.tandfonline.com/doi/full/10.1080/0...   \n",
       " 32  https://www.instagram.com/p/CC4uVu0JgON/?igshi...   \n",
       " 18  https://covid19andunder.wordpress.com/2020/05/...   \n",
       " 14  https://covid19andunder.wordpress.com/2020/05/...   \n",
       " \n",
       "                             Group Name          Username    Label  \n",
       " 23                  COVID-19 and Under  @covid19andunder     Real  \n",
       " 33                        TEENERGIZER!      @teenergizer  Unknown  \n",
       " 30                  Michelle Marchante   @TweetMichelleM     Real  \n",
       " 24                  COVID-19 and Under  @covid19andunder     Real  \n",
       " 10                     Stephanie Craig     @DrStephCraig     Real  \n",
       " 37                                 NaN               NaN      NaN  \n",
       " 38                                 NaN               NaN      NaN  \n",
       " 19                  COVID-19 and Under  @covid19andunder     Real  \n",
       " 16                  COVID-19 and Under  @covid19andunder     Real  \n",
       " 26                  COVID-19 and Under  @covid19andunder     Real  \n",
       " 7   COVID-19 Awareness Teen Task Force       @covid19atf     Real  \n",
       " 20                  COVID-19 and Under  @covid19andunder     Real  \n",
       " 31                    Teen SMART Goals   @teensmartgoals     Real  \n",
       " 15                  COVID-19 and Under  @covid19andunder     Real  \n",
       " 35                                 NaN               NaN      NaN  \n",
       " 25                  COVID-19 and Under  @covid19andunder     Real  \n",
       " 29                  COVID-19 and Under  @covid19andunder     Real  \n",
       " 11                       Nicole Racine         @racinen2     Real  \n",
       " 0                         Ros McMullen           @RosMcM     Real  \n",
       " 12                     Stephanie Craig     @DrStephCraig     Real  \n",
       " 22                  COVID-19 and Under  @covid19andunder     Real  \n",
       " 13                  COVID-19 and Under  @covid19andunder     Real  \n",
       " 36                                 NaN               NaN      NaN  \n",
       " 28                  COVID-19 and Under  @covid19andunder     Real  \n",
       " 1                              BlogHer          @BlogHer     Real  \n",
       " 8                      Nazilla Khanlou   @NazillaKhanlou     Real  \n",
       " 32               Quarantine in America   @flavorsamerica     Fake  \n",
       " 18                  COVID-19 and Under  @covid19andunder     Real  \n",
       " 14                  COVID-19 and Under  @covid19andunder     Real  ,\n",
       "          Date                                              Tweet  \\\n",
       " 5   6/16/2020  Teen doctor and relationship expert @parenttee...   \n",
       " 34        NaN                                                NaN   \n",
       " 4      Jun 11  Lets together make caring and carers visible S...   \n",
       " 17     May 11                              #COVID19 #coronavirus   \n",
       " 2       May 2  Well done, Tina and Jasmine! Love seeing stude...   \n",
       " 3      Mar 25  a “#coronavirus #babyboom” that will see a gen...   \n",
       " 6      Jun 24  I know my #anxiety level is quite high at the ...   \n",
       " 21      May 2                                                NaN   \n",
       " 9     July 22  Today we submitted our updated knowledge synth...   \n",
       " 27   April 25  https://abcnews.go.com/GMA/Family/children-cor...   \n",
       " \n",
       "                                                  Link  \\\n",
       " 5   https://www.sheknows.com/parenting/articles/22...   \n",
       " 34                                                NaN   \n",
       " 4   https://barnardos.org.uk/what-we-do/services/c...   \n",
       " 17  https://covid19andunder.wordpress.com/2020/05/...   \n",
       " 2                                      dlvr.it/RVvH2M   \n",
       " 3   https://www.vice.com/en_in/article/dygj5a/sex-...   \n",
       " 6   http://www.wordsalive.org/mindfulness?fbclid=I...   \n",
       " 21  https://covid19andunder.wordpress.com/2020/04/...   \n",
       " 9   https://covid19mentalhealthresearch.ca/synthes...   \n",
       " 27  https://abcnews.go.com/GMA/Family/children-cor...   \n",
       " \n",
       "                           Group Name          Username Label  \n",
       " 5                           SheKnows         @SheKnows  Real  \n",
       " 34                               NaN               NaN   NaN  \n",
       " 4   Leicester Young People's Council     @LeicesterYpc  Real  \n",
       " 17                COVID-19 and Under  @covid19andunder  Real  \n",
       " 2                         Kasha Duff        @KashaDuff  Real  \n",
       " 3                        BeTheChange      @thechance2b  Real  \n",
       " 6                           E McCann       @Ms_EMcCann  Real  \n",
       " 21                COVID-19 and Under  @covid19andunder  Real  \n",
       " 9                    Nazilla Khanlou   @NazillaKhanlou  Real  \n",
       " 27                COVID-19 and Under  @covid19andunder  Real  ]"
      ]
     },
     "execution_count": 29,
     "metadata": {},
     "output_type": "execute_result"
    }
   ],
   "source": [
    "train_test_split(dr)"
   ]
  },
  {
   "cell_type": "code",
   "execution_count": 38,
   "metadata": {},
   "outputs": [
    {
     "name": "stdout",
     "output_type": "stream",
     "text": [
      "Username Username\n",
      "@BlogHer             1\n",
      "@DrStephCraig        2\n",
      "@KashaDuff           1\n",
      "@LeicesterYpc        1\n",
      "@Ms_EMcCann          1\n",
      "@NazillaKhanlou      2\n",
      "@RosMcM              1\n",
      "@SheKnows            1\n",
      "@TweetMichelleM      1\n",
      "@covid19andunder    17\n",
      "@covid19atf          1\n",
      "@flavorsamerica      1\n",
      "@racinen2            1\n",
      "@teenergizer         1\n",
      "@teensmartgoals      1\n",
      "@thechance2b         1\n",
      "dtype: int64\n"
     ]
    }
   ],
   "source": [
    "print(\"Username\", dr.groupby([\"Username\"]).size())"
   ]
  },
  {
   "cell_type": "code",
   "execution_count": 39,
   "metadata": {},
   "outputs": [
    {
     "data": {
      "text/plain": [
       "<matplotlib.axes._subplots.AxesSubplot at 0x7f80bc206f50>"
      ]
     },
     "execution_count": 39,
     "metadata": {},
     "output_type": "execute_result"
    },
    {
     "data": {
      "image/png": "[encoded data removed]",
      "text/plain": [
       "<Figure size 432x288 with 1 Axes>"
      ]
     },
     "metadata": {},
     "output_type": "display_data"
    }
   ],
   "source": [
    "dr.groupby(['Username']).size().plot(kind='barh')"
   ]
  },
  {
   "cell_type": "code",
   "execution_count": 40,
   "metadata": {},
   "outputs": [
    {
     "name": "stdout",
     "output_type": "stream",
     "text": [
      "Date Date\n",
      "5/11/2020    2\n",
      "5/12/2020    2\n",
      "6/16/2020    1\n",
      "7/20/2020    1\n",
      "7/9/2020     1\n",
      "April 23     2\n",
      "April 24     1\n",
      "April 25     1\n",
      "Jul 20       1\n",
      "Jul 24       1\n",
      "Jul 25       1\n",
      "July 14      1\n",
      "July 22      1\n",
      "July 24      1\n",
      "Jun 11       1\n",
      "Jun 24       1\n",
      "Mar 14       1\n",
      "Mar 25       1\n",
      "May 11       2\n",
      "May 2        8\n",
      "May 20       1\n",
      "May 23       1\n",
      "May 26       1\n",
      "dtype: int64\n"
     ]
    }
   ],
   "source": [
    "print(\"Date\", dr.groupby([\"Date\"]).size())"
   ]
  },
  {
   "cell_type": "code",
   "execution_count": 41,
   "metadata": {},
   "outputs": [
    {
     "data": {
      "text/plain": [
       "<matplotlib.axes._subplots.AxesSubplot at 0x7f80bc3ace10>"
      ]
     },
     "execution_count": 41,
     "metadata": {},
     "output_type": "execute_result"
    },
    {
     "data": {
      "image/png": "[encoded data removed]",
      "text/plain": [
       "<Figure size 432x288 with 1 Axes>"
      ]
     },
     "metadata": {},
     "output_type": "display_data"
    }
   ],
   "source": [
    "dr.groupby(['Date']).size().plot(kind='barh')"
   ]
  },
  {
   "cell_type": "code",
   "execution_count": 34,
   "metadata": {},
   "outputs": [],
   "source": [
    "#"
   ]
  }
 ],
 "metadata": {
  "kernelspec": {
   "display_name": "Python 3",
   "language": "python",
   "name": "python3"
  },
  "language_info": {
   "codemirror_mode": {
    "name": "ipython",
    "version": 3
   },
   "file_extension": ".py",
   "mimetype": "text/x-python",
   "name": "python",
   "nbconvert_exporter": "python",
   "pygments_lexer": "ipython3",
   "version": "3.7.6"
  }
 },
 "nbformat": 4,
 "nbformat_minor": 4
}
